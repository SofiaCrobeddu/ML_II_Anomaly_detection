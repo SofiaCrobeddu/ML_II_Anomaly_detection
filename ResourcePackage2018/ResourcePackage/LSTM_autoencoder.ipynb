{
  "nbformat": 4,
  "nbformat_minor": 0,
  "metadata": {
    "colab": {
      "provenance": [],
      "gpuType": "T4"
    },
    "kernelspec": {
      "name": "python3",
      "display_name": "Python 3"
    },
    "language_info": {
      "name": "python"
    },
    "accelerator": "GPU"
  },
  "cells": [
    {
      "cell_type": "markdown",
      "source": [
        "Step 1: Load Required Libraries"
      ],
      "metadata": {
        "id": "fk265-HRXvS6"
      }
    },
    {
      "cell_type": "code",
      "execution_count": 14,
      "metadata": {
        "colab": {
          "base_uri": "https://localhost:8080/"
        },
        "id": "CuG5Z_rqW-Qs",
        "outputId": "eb9347ad-00ae-4d17-f3d3-10ceccb5d0fa"
      },
      "outputs": [
        {
          "output_type": "stream",
          "name": "stdout",
          "text": [
            "Requirement already satisfied: numpy in /usr/local/lib/python3.10/dist-packages (1.26.4)\n",
            "Requirement already satisfied: pandas in /usr/local/lib/python3.10/dist-packages (2.2.2)\n",
            "Requirement already satisfied: matplotlib in /usr/local/lib/python3.10/dist-packages (3.8.0)\n",
            "Requirement already satisfied: tensorflow in /usr/local/lib/python3.10/dist-packages (2.17.1)\n",
            "Requirement already satisfied: pyreadr in /usr/local/lib/python3.10/dist-packages (0.5.2)\n",
            "Requirement already satisfied: python-dateutil>=2.8.2 in /usr/local/lib/python3.10/dist-packages (from pandas) (2.8.2)\n",
            "Requirement already satisfied: pytz>=2020.1 in /usr/local/lib/python3.10/dist-packages (from pandas) (2024.2)\n",
            "Requirement already satisfied: tzdata>=2022.7 in /usr/local/lib/python3.10/dist-packages (from pandas) (2024.2)\n",
            "Requirement already satisfied: contourpy>=1.0.1 in /usr/local/lib/python3.10/dist-packages (from matplotlib) (1.3.1)\n",
            "Requirement already satisfied: cycler>=0.10 in /usr/local/lib/python3.10/dist-packages (from matplotlib) (0.12.1)\n",
            "Requirement already satisfied: fonttools>=4.22.0 in /usr/local/lib/python3.10/dist-packages (from matplotlib) (4.55.1)\n",
            "Requirement already satisfied: kiwisolver>=1.0.1 in /usr/local/lib/python3.10/dist-packages (from matplotlib) (1.4.7)\n",
            "Requirement already satisfied: packaging>=20.0 in /usr/local/lib/python3.10/dist-packages (from matplotlib) (24.2)\n",
            "Requirement already satisfied: pillow>=6.2.0 in /usr/local/lib/python3.10/dist-packages (from matplotlib) (11.0.0)\n",
            "Requirement already satisfied: pyparsing>=2.3.1 in /usr/local/lib/python3.10/dist-packages (from matplotlib) (3.2.0)\n",
            "Requirement already satisfied: absl-py>=1.0.0 in /usr/local/lib/python3.10/dist-packages (from tensorflow) (1.4.0)\n",
            "Requirement already satisfied: astunparse>=1.6.0 in /usr/local/lib/python3.10/dist-packages (from tensorflow) (1.6.3)\n",
            "Requirement already satisfied: flatbuffers>=24.3.25 in /usr/local/lib/python3.10/dist-packages (from tensorflow) (24.3.25)\n",
            "Requirement already satisfied: gast!=0.5.0,!=0.5.1,!=0.5.2,>=0.2.1 in /usr/local/lib/python3.10/dist-packages (from tensorflow) (0.6.0)\n",
            "Requirement already satisfied: google-pasta>=0.1.1 in /usr/local/lib/python3.10/dist-packages (from tensorflow) (0.2.0)\n",
            "Requirement already satisfied: h5py>=3.10.0 in /usr/local/lib/python3.10/dist-packages (from tensorflow) (3.12.1)\n",
            "Requirement already satisfied: libclang>=13.0.0 in /usr/local/lib/python3.10/dist-packages (from tensorflow) (18.1.1)\n",
            "Requirement already satisfied: ml-dtypes<0.5.0,>=0.3.1 in /usr/local/lib/python3.10/dist-packages (from tensorflow) (0.4.1)\n",
            "Requirement already satisfied: opt-einsum>=2.3.2 in /usr/local/lib/python3.10/dist-packages (from tensorflow) (3.4.0)\n",
            "Requirement already satisfied: protobuf!=4.21.0,!=4.21.1,!=4.21.2,!=4.21.3,!=4.21.4,!=4.21.5,<5.0.0dev,>=3.20.3 in /usr/local/lib/python3.10/dist-packages (from tensorflow) (4.25.5)\n",
            "Requirement already satisfied: requests<3,>=2.21.0 in /usr/local/lib/python3.10/dist-packages (from tensorflow) (2.32.3)\n",
            "Requirement already satisfied: setuptools in /usr/local/lib/python3.10/dist-packages (from tensorflow) (75.1.0)\n",
            "Requirement already satisfied: six>=1.12.0 in /usr/local/lib/python3.10/dist-packages (from tensorflow) (1.16.0)\n",
            "Requirement already satisfied: termcolor>=1.1.0 in /usr/local/lib/python3.10/dist-packages (from tensorflow) (2.5.0)\n",
            "Requirement already satisfied: typing-extensions>=3.6.6 in /usr/local/lib/python3.10/dist-packages (from tensorflow) (4.12.2)\n",
            "Requirement already satisfied: wrapt>=1.11.0 in /usr/local/lib/python3.10/dist-packages (from tensorflow) (1.17.0)\n",
            "Requirement already satisfied: grpcio<2.0,>=1.24.3 in /usr/local/lib/python3.10/dist-packages (from tensorflow) (1.68.1)\n",
            "Requirement already satisfied: tensorboard<2.18,>=2.17 in /usr/local/lib/python3.10/dist-packages (from tensorflow) (2.17.1)\n",
            "Requirement already satisfied: keras>=3.2.0 in /usr/local/lib/python3.10/dist-packages (from tensorflow) (3.5.0)\n",
            "Requirement already satisfied: tensorflow-io-gcs-filesystem>=0.23.1 in /usr/local/lib/python3.10/dist-packages (from tensorflow) (0.37.1)\n",
            "Requirement already satisfied: wheel<1.0,>=0.23.0 in /usr/local/lib/python3.10/dist-packages (from astunparse>=1.6.0->tensorflow) (0.45.1)\n",
            "Requirement already satisfied: rich in /usr/local/lib/python3.10/dist-packages (from keras>=3.2.0->tensorflow) (13.9.4)\n",
            "Requirement already satisfied: namex in /usr/local/lib/python3.10/dist-packages (from keras>=3.2.0->tensorflow) (0.0.8)\n",
            "Requirement already satisfied: optree in /usr/local/lib/python3.10/dist-packages (from keras>=3.2.0->tensorflow) (0.13.1)\n",
            "Requirement already satisfied: charset-normalizer<4,>=2 in /usr/local/lib/python3.10/dist-packages (from requests<3,>=2.21.0->tensorflow) (3.4.0)\n",
            "Requirement already satisfied: idna<4,>=2.5 in /usr/local/lib/python3.10/dist-packages (from requests<3,>=2.21.0->tensorflow) (3.10)\n",
            "Requirement already satisfied: urllib3<3,>=1.21.1 in /usr/local/lib/python3.10/dist-packages (from requests<3,>=2.21.0->tensorflow) (2.2.3)\n",
            "Requirement already satisfied: certifi>=2017.4.17 in /usr/local/lib/python3.10/dist-packages (from requests<3,>=2.21.0->tensorflow) (2024.8.30)\n",
            "Requirement already satisfied: markdown>=2.6.8 in /usr/local/lib/python3.10/dist-packages (from tensorboard<2.18,>=2.17->tensorflow) (3.7)\n",
            "Requirement already satisfied: tensorboard-data-server<0.8.0,>=0.7.0 in /usr/local/lib/python3.10/dist-packages (from tensorboard<2.18,>=2.17->tensorflow) (0.7.2)\n",
            "Requirement already satisfied: werkzeug>=1.0.1 in /usr/local/lib/python3.10/dist-packages (from tensorboard<2.18,>=2.17->tensorflow) (3.1.3)\n",
            "Requirement already satisfied: MarkupSafe>=2.1.1 in /usr/local/lib/python3.10/dist-packages (from werkzeug>=1.0.1->tensorboard<2.18,>=2.17->tensorflow) (3.0.2)\n",
            "Requirement already satisfied: markdown-it-py>=2.2.0 in /usr/local/lib/python3.10/dist-packages (from rich->keras>=3.2.0->tensorflow) (3.0.0)\n",
            "Requirement already satisfied: pygments<3.0.0,>=2.13.0 in /usr/local/lib/python3.10/dist-packages (from rich->keras>=3.2.0->tensorflow) (2.18.0)\n",
            "Requirement already satisfied: mdurl~=0.1 in /usr/local/lib/python3.10/dist-packages (from markdown-it-py>=2.2.0->rich->keras>=3.2.0->tensorflow) (0.1.2)\n"
          ]
        }
      ],
      "source": [
        "# Install required libraries\n",
        "!pip install numpy pandas matplotlib tensorflow pyreadr\n",
        "\n",
        "# Import necessary libraries\n",
        "import numpy as np\n",
        "import pandas as pd\n",
        "import matplotlib.pyplot as plt\n",
        "from sklearn.preprocessing import MinMaxScaler\n",
        "from sklearn.model_selection import train_test_split\n",
        "from tensorflow.keras.models import Sequential\n",
        "from tensorflow.keras.layers import LSTM, Dense, RepeatVector, TimeDistributed\n",
        "from tensorflow.keras.optimizers import Adam\n"
      ]
    },
    {
      "cell_type": "markdown",
      "source": [
        "Step 2: Load and Prepare the Dataset"
      ],
      "metadata": {
        "id": "zOVpFQgLXzPi"
      }
    },
    {
      "cell_type": "code",
      "source": [
        "import pyreadr\n",
        "\n",
        "# Load the RDS file\n",
        "result = pyreadr.read_r('/content/waterDataTraining.RDS')  # Update path if needed\n",
        "data = result[None]  # Extract the dataframe\n",
        "\n",
        "# Columns to use\n",
        "columns = ['Tp', 'Cl', 'pH', 'Redox', 'Leit', 'Trueb', 'Cl_2', 'Fm', 'Fm_2']\n",
        "data = data[columns]\n",
        "\n",
        "# Display data information\n",
        "print(data.head())\n",
        "print(data.info())\n"
      ],
      "metadata": {
        "colab": {
          "base_uri": "https://localhost:8080/"
        },
        "id": "2YB8ZLY4XjDy",
        "outputId": "c128fa43-f0e2-4ef2-a20a-56084be8885a"
      },
      "execution_count": 15,
      "outputs": [
        {
          "output_type": "stream",
          "name": "stdout",
          "text": [
            "    Tp    Cl    pH  Redox   Leit  Trueb   Cl_2      Fm   Fm_2\n",
            "0  6.5  0.17  8.36  749.0  211.0  0.011  0.118  1677.0  695.0\n",
            "1  6.5  0.17  8.36  749.0  211.0  0.011  0.118  1561.0  696.0\n",
            "2  6.5  0.17  8.35  749.0  211.0  0.011  0.117  1581.0  696.0\n",
            "3  6.5  0.17  8.35  749.0  211.0  0.011  0.118  1579.0  693.0\n",
            "4  6.5  0.17  8.35  749.0  211.0  0.011  0.118  1567.0  689.0\n",
            "<class 'pandas.core.frame.DataFrame'>\n",
            "RangeIndex: 139566 entries, 0 to 139565\n",
            "Data columns (total 9 columns):\n",
            " #   Column  Non-Null Count   Dtype  \n",
            "---  ------  --------------   -----  \n",
            " 0   Tp      138522 non-null  float64\n",
            " 1   Cl      138521 non-null  float64\n",
            " 2   pH      138522 non-null  float64\n",
            " 3   Redox   138522 non-null  float64\n",
            " 4   Leit    138522 non-null  float64\n",
            " 5   Trueb   138522 non-null  float64\n",
            " 6   Cl_2    138522 non-null  float64\n",
            " 7   Fm      138522 non-null  float64\n",
            " 8   Fm_2    138522 non-null  float64\n",
            "dtypes: float64(9)\n",
            "memory usage: 9.6 MB\n",
            "None\n"
          ]
        }
      ]
    },
    {
      "cell_type": "markdown",
      "source": [
        "2.2 Handle Missing Values"
      ],
      "metadata": {
        "id": "gTFfIzvUji9q"
      }
    },
    {
      "cell_type": "code",
      "source": [
        "# Fill missing values with the column mean\n",
        "data_cleaned = data.fillna(data.mean())\n",
        "\n",
        "# Verify missing values are handled\n",
        "print(data_cleaned.isna().sum())  # Should print all zeros\n"
      ],
      "metadata": {
        "colab": {
          "base_uri": "https://localhost:8080/"
        },
        "id": "guUjBw9wjluz",
        "outputId": "4e403158-d60e-431b-bacd-0f2fbe9068ce"
      },
      "execution_count": 16,
      "outputs": [
        {
          "output_type": "stream",
          "name": "stdout",
          "text": [
            "Tp       0\n",
            "Cl       0\n",
            "pH       0\n",
            "Redox    0\n",
            "Leit     0\n",
            "Trueb    0\n",
            "Cl_2     0\n",
            "Fm       0\n",
            "Fm_2     0\n",
            "dtype: int64\n"
          ]
        }
      ]
    },
    {
      "cell_type": "markdown",
      "source": [
        "2.3 Normalize the Data"
      ],
      "metadata": {
        "id": "jRYDRvWOXuNZ"
      }
    },
    {
      "cell_type": "code",
      "source": [
        "# Normalize the data to range [0, 1]\n",
        "scaler = MinMaxScaler()\n",
        "data_normalized = pd.DataFrame(scaler.fit_transform(data_cleaned), columns=data_cleaned.columns)\n",
        "\n",
        "# Verify normalization\n",
        "print(data_normalized.describe())\n"
      ],
      "metadata": {
        "colab": {
          "base_uri": "https://localhost:8080/"
        },
        "id": "dknZZWeDj2_S",
        "outputId": "2c2493d8-9abb-4f8c-f612-5960b2e6ecb1"
      },
      "execution_count": 18,
      "outputs": [
        {
          "output_type": "stream",
          "name": "stdout",
          "text": [
            "                  Tp             Cl             pH          Redox  \\\n",
            "count  139566.000000  139566.000000  139566.000000  139566.000000   \n",
            "mean        0.722153       0.206852       0.884565       0.761175   \n",
            "std         0.108179       0.012711       0.020510       0.021675   \n",
            "min         0.000000       0.000000       0.000000       0.000000   \n",
            "25%         0.635593       0.200000       0.879214       0.757983   \n",
            "50%         0.711864       0.212500       0.885291       0.763025   \n",
            "75%         0.805085       0.212500       0.889343       0.766387   \n",
            "max         1.000000       1.000000       1.000000       1.000000   \n",
            "\n",
            "                Leit          Trueb           Cl_2             Fm  \\\n",
            "count  139566.000000  139566.000000  139566.000000  139566.000000   \n",
            "mean        0.324336       0.077866       0.229651       0.391081   \n",
            "std         0.011948       0.021540       0.015378       0.052865   \n",
            "min         0.000000       0.000000       0.000000       0.000000   \n",
            "25%         0.323529       0.062992       0.222944       0.354321   \n",
            "50%         0.326625       0.074527       0.229437       0.386439   \n",
            "75%         0.326625       0.090551       0.238095       0.420342   \n",
            "max         1.000000       1.000000       1.000000       1.000000   \n",
            "\n",
            "                Fm_2  \n",
            "count  139566.000000  \n",
            "mean        0.357920  \n",
            "std         0.056672  \n",
            "min         0.000000  \n",
            "25%         0.327546  \n",
            "50%         0.357639  \n",
            "75%         0.385802  \n",
            "max         1.000000  \n"
          ]
        }
      ]
    },
    {
      "cell_type": "code",
      "source": [
        "# Normalize the data using MinMaxScaler\n",
        "scaler = MinMaxScaler()\n",
        "data_normalized = pd.DataFrame(scaler.fit_transform(data), columns=columns)\n",
        "\n",
        "# Check normalized data\n",
        "print(data_normalized.head())\n"
      ],
      "metadata": {
        "colab": {
          "base_uri": "https://localhost:8080/"
        },
        "id": "qMI3iqXVX57a",
        "outputId": "0f3c69fd-7f60-47dc-89c0-52c810130dd9"
      },
      "execution_count": 3,
      "outputs": [
        {
          "output_type": "stream",
          "name": "stdout",
          "text": [
            "         Tp      Cl        pH     Redox      Leit     Trueb      Cl_2  \\\n",
            "0  0.550847  0.2125  0.883266  0.754622  0.326625  0.043307  0.255411   \n",
            "1  0.550847  0.2125  0.883266  0.754622  0.326625  0.043307  0.255411   \n",
            "2  0.550847  0.2125  0.881240  0.754622  0.326625  0.043307  0.253247   \n",
            "3  0.550847  0.2125  0.881240  0.754622  0.326625  0.043307  0.255411   \n",
            "4  0.550847  0.2125  0.881240  0.754622  0.326625  0.043307  0.255411   \n",
            "\n",
            "         Fm      Fm_2  \n",
            "0  0.427479  0.268133  \n",
            "1  0.397910  0.268519  \n",
            "2  0.403008  0.268519  \n",
            "3  0.402498  0.267361  \n",
            "4  0.399439  0.265818  \n"
          ]
        },
        {
          "output_type": "stream",
          "name": "stderr",
          "text": [
            "/usr/local/lib/python3.10/dist-packages/numpy/core/fromnumeric.py:88: RuntimeWarning: invalid value encountered in reduce\n",
            "  return ufunc.reduce(obj, axis, dtype, out, **passkwargs)\n",
            "/usr/local/lib/python3.10/dist-packages/numpy/core/fromnumeric.py:88: RuntimeWarning: invalid value encountered in reduce\n",
            "  return ufunc.reduce(obj, axis, dtype, out, **passkwargs)\n",
            "/usr/local/lib/python3.10/dist-packages/sklearn/preprocessing/_data.py:543: RuntimeWarning: invalid value encountered in multiply\n",
            "  X *= self.scale_\n"
          ]
        }
      ]
    },
    {
      "cell_type": "markdown",
      "source": [
        "Step 3: Create Time-Series Sequences"
      ],
      "metadata": {
        "id": "dCziauDyYB9A"
      }
    },
    {
      "cell_type": "code",
      "source": [
        "# Function to create time-series sequences\n",
        "def create_sequences(data, timesteps):\n",
        "    sequences = []\n",
        "    for i in range(len(data) - timesteps + 1):\n",
        "        seq = data.iloc[i : i + timesteps].values\n",
        "        sequences.append(seq)\n",
        "    return np.array(sequences)\n",
        "\n",
        "# Set time steps\n",
        "timesteps = 30\n",
        "\n",
        "# Create sequences\n",
        "input_data = create_sequences(data_normalized, timesteps)\n",
        "print(f\"Input shape: {input_data.shape}\")  # Example: (num_samples, timesteps, num_features)\n"
      ],
      "metadata": {
        "colab": {
          "base_uri": "https://localhost:8080/"
        },
        "id": "VJI8kj39YCsc",
        "outputId": "4242c503-6103-4c66-b323-871334a3ef97"
      },
      "execution_count": 19,
      "outputs": [
        {
          "output_type": "stream",
          "name": "stdout",
          "text": [
            "Input shape: (139537, 30, 9)\n"
          ]
        }
      ]
    },
    {
      "cell_type": "markdown",
      "source": [
        "Step 4: Split Data into Training and Validation Sets"
      ],
      "metadata": {
        "id": "hd_tDTfBkZ6B"
      }
    },
    {
      "cell_type": "code",
      "source": [
        "# Split the data into training and validation sets\n",
        "X_train, X_val = train_test_split(input_data, test_size=0.2, random_state=42)\n",
        "print(f\"Training shape: {X_train.shape}, Validation shape: {X_val.shape}\")\n"
      ],
      "metadata": {
        "colab": {
          "base_uri": "https://localhost:8080/"
        },
        "id": "dq9oUI9WkYGj",
        "outputId": "e476a208-bc50-451d-c838-c3ccc1404d4d"
      },
      "execution_count": 20,
      "outputs": [
        {
          "output_type": "stream",
          "name": "stdout",
          "text": [
            "Training shape: (111629, 30, 9), Validation shape: (27908, 30, 9)\n"
          ]
        }
      ]
    },
    {
      "cell_type": "markdown",
      "source": [
        "Step 5: Build and Compile the LSTM Autoencoder"
      ],
      "metadata": {
        "id": "CuJa1nkQYMJa"
      }
    },
    {
      "cell_type": "code",
      "source": [
        "# Define the LSTM Autoencoder\n",
        "model = Sequential([\n",
        "    LSTM(64, activation='relu', input_shape=(timesteps, input_data.shape[2]), return_sequences=True),\n",
        "    LSTM(32, activation='relu', return_sequences=False),\n",
        "    RepeatVector(timesteps),\n",
        "    LSTM(32, activation='relu', return_sequences=True),\n",
        "    LSTM(64, activation='relu', return_sequences=True),\n",
        "    TimeDistributed(Dense(input_data.shape[2]))\n",
        "])\n",
        "\n",
        "# Compile the model with a low learning rate and gradient clipping\n",
        "model.compile(optimizer=Adam(learning_rate=0.0001, clipvalue=1.0), loss='mse')\n",
        "model.summary()\n"
      ],
      "metadata": {
        "colab": {
          "base_uri": "https://localhost:8080/",
          "height": 383
        },
        "id": "83w0Cz-cYKO6",
        "outputId": "51ec54e8-b2f8-4750-b44c-bc86f5830d26"
      },
      "execution_count": 21,
      "outputs": [
        {
          "output_type": "stream",
          "name": "stderr",
          "text": [
            "/usr/local/lib/python3.10/dist-packages/keras/src/layers/rnn/rnn.py:204: UserWarning: Do not pass an `input_shape`/`input_dim` argument to a layer. When using Sequential models, prefer using an `Input(shape)` object as the first layer in the model instead.\n",
            "  super().__init__(**kwargs)\n"
          ]
        },
        {
          "output_type": "display_data",
          "data": {
            "text/plain": [
              "\u001b[1mModel: \"sequential_1\"\u001b[0m\n"
            ],
            "text/html": [
              "<pre style=\"white-space:pre;overflow-x:auto;line-height:normal;font-family:Menlo,'DejaVu Sans Mono',consolas,'Courier New',monospace\"><span style=\"font-weight: bold\">Model: \"sequential_1\"</span>\n",
              "</pre>\n"
            ]
          },
          "metadata": {}
        },
        {
          "output_type": "display_data",
          "data": {
            "text/plain": [
              "┏━━━━━━━━━━━━━━━━━━━━━━━━━━━━━━━━━━━━━━┳━━━━━━━━━━━━━━━━━━━━━━━━━━━━━┳━━━━━━━━━━━━━━━━━┓\n",
              "┃\u001b[1m \u001b[0m\u001b[1mLayer (type)                        \u001b[0m\u001b[1m \u001b[0m┃\u001b[1m \u001b[0m\u001b[1mOutput Shape               \u001b[0m\u001b[1m \u001b[0m┃\u001b[1m \u001b[0m\u001b[1m        Param #\u001b[0m\u001b[1m \u001b[0m┃\n",
              "┡━━━━━━━━━━━━━━━━━━━━━━━━━━━━━━━━━━━━━━╇━━━━━━━━━━━━━━━━━━━━━━━━━━━━━╇━━━━━━━━━━━━━━━━━┩\n",
              "│ lstm_4 (\u001b[38;5;33mLSTM\u001b[0m)                        │ (\u001b[38;5;45mNone\u001b[0m, \u001b[38;5;34m30\u001b[0m, \u001b[38;5;34m64\u001b[0m)              │          \u001b[38;5;34m18,944\u001b[0m │\n",
              "├──────────────────────────────────────┼─────────────────────────────┼─────────────────┤\n",
              "│ lstm_5 (\u001b[38;5;33mLSTM\u001b[0m)                        │ (\u001b[38;5;45mNone\u001b[0m, \u001b[38;5;34m32\u001b[0m)                  │          \u001b[38;5;34m12,416\u001b[0m │\n",
              "├──────────────────────────────────────┼─────────────────────────────┼─────────────────┤\n",
              "│ repeat_vector_1 (\u001b[38;5;33mRepeatVector\u001b[0m)       │ (\u001b[38;5;45mNone\u001b[0m, \u001b[38;5;34m30\u001b[0m, \u001b[38;5;34m32\u001b[0m)              │               \u001b[38;5;34m0\u001b[0m │\n",
              "├──────────────────────────────────────┼─────────────────────────────┼─────────────────┤\n",
              "│ lstm_6 (\u001b[38;5;33mLSTM\u001b[0m)                        │ (\u001b[38;5;45mNone\u001b[0m, \u001b[38;5;34m30\u001b[0m, \u001b[38;5;34m32\u001b[0m)              │           \u001b[38;5;34m8,320\u001b[0m │\n",
              "├──────────────────────────────────────┼─────────────────────────────┼─────────────────┤\n",
              "│ lstm_7 (\u001b[38;5;33mLSTM\u001b[0m)                        │ (\u001b[38;5;45mNone\u001b[0m, \u001b[38;5;34m30\u001b[0m, \u001b[38;5;34m64\u001b[0m)              │          \u001b[38;5;34m24,832\u001b[0m │\n",
              "├──────────────────────────────────────┼─────────────────────────────┼─────────────────┤\n",
              "│ time_distributed_1 (\u001b[38;5;33mTimeDistributed\u001b[0m) │ (\u001b[38;5;45mNone\u001b[0m, \u001b[38;5;34m30\u001b[0m, \u001b[38;5;34m9\u001b[0m)               │             \u001b[38;5;34m585\u001b[0m │\n",
              "└──────────────────────────────────────┴─────────────────────────────┴─────────────────┘\n"
            ],
            "text/html": [
              "<pre style=\"white-space:pre;overflow-x:auto;line-height:normal;font-family:Menlo,'DejaVu Sans Mono',consolas,'Courier New',monospace\">┏━━━━━━━━━━━━━━━━━━━━━━━━━━━━━━━━━━━━━━┳━━━━━━━━━━━━━━━━━━━━━━━━━━━━━┳━━━━━━━━━━━━━━━━━┓\n",
              "┃<span style=\"font-weight: bold\"> Layer (type)                         </span>┃<span style=\"font-weight: bold\"> Output Shape                </span>┃<span style=\"font-weight: bold\">         Param # </span>┃\n",
              "┡━━━━━━━━━━━━━━━━━━━━━━━━━━━━━━━━━━━━━━╇━━━━━━━━━━━━━━━━━━━━━━━━━━━━━╇━━━━━━━━━━━━━━━━━┩\n",
              "│ lstm_4 (<span style=\"color: #0087ff; text-decoration-color: #0087ff\">LSTM</span>)                        │ (<span style=\"color: #00d7ff; text-decoration-color: #00d7ff\">None</span>, <span style=\"color: #00af00; text-decoration-color: #00af00\">30</span>, <span style=\"color: #00af00; text-decoration-color: #00af00\">64</span>)              │          <span style=\"color: #00af00; text-decoration-color: #00af00\">18,944</span> │\n",
              "├──────────────────────────────────────┼─────────────────────────────┼─────────────────┤\n",
              "│ lstm_5 (<span style=\"color: #0087ff; text-decoration-color: #0087ff\">LSTM</span>)                        │ (<span style=\"color: #00d7ff; text-decoration-color: #00d7ff\">None</span>, <span style=\"color: #00af00; text-decoration-color: #00af00\">32</span>)                  │          <span style=\"color: #00af00; text-decoration-color: #00af00\">12,416</span> │\n",
              "├──────────────────────────────────────┼─────────────────────────────┼─────────────────┤\n",
              "│ repeat_vector_1 (<span style=\"color: #0087ff; text-decoration-color: #0087ff\">RepeatVector</span>)       │ (<span style=\"color: #00d7ff; text-decoration-color: #00d7ff\">None</span>, <span style=\"color: #00af00; text-decoration-color: #00af00\">30</span>, <span style=\"color: #00af00; text-decoration-color: #00af00\">32</span>)              │               <span style=\"color: #00af00; text-decoration-color: #00af00\">0</span> │\n",
              "├──────────────────────────────────────┼─────────────────────────────┼─────────────────┤\n",
              "│ lstm_6 (<span style=\"color: #0087ff; text-decoration-color: #0087ff\">LSTM</span>)                        │ (<span style=\"color: #00d7ff; text-decoration-color: #00d7ff\">None</span>, <span style=\"color: #00af00; text-decoration-color: #00af00\">30</span>, <span style=\"color: #00af00; text-decoration-color: #00af00\">32</span>)              │           <span style=\"color: #00af00; text-decoration-color: #00af00\">8,320</span> │\n",
              "├──────────────────────────────────────┼─────────────────────────────┼─────────────────┤\n",
              "│ lstm_7 (<span style=\"color: #0087ff; text-decoration-color: #0087ff\">LSTM</span>)                        │ (<span style=\"color: #00d7ff; text-decoration-color: #00d7ff\">None</span>, <span style=\"color: #00af00; text-decoration-color: #00af00\">30</span>, <span style=\"color: #00af00; text-decoration-color: #00af00\">64</span>)              │          <span style=\"color: #00af00; text-decoration-color: #00af00\">24,832</span> │\n",
              "├──────────────────────────────────────┼─────────────────────────────┼─────────────────┤\n",
              "│ time_distributed_1 (<span style=\"color: #0087ff; text-decoration-color: #0087ff\">TimeDistributed</span>) │ (<span style=\"color: #00d7ff; text-decoration-color: #00d7ff\">None</span>, <span style=\"color: #00af00; text-decoration-color: #00af00\">30</span>, <span style=\"color: #00af00; text-decoration-color: #00af00\">9</span>)               │             <span style=\"color: #00af00; text-decoration-color: #00af00\">585</span> │\n",
              "└──────────────────────────────────────┴─────────────────────────────┴─────────────────┘\n",
              "</pre>\n"
            ]
          },
          "metadata": {}
        },
        {
          "output_type": "display_data",
          "data": {
            "text/plain": [
              "\u001b[1m Total params: \u001b[0m\u001b[38;5;34m65,097\u001b[0m (254.29 KB)\n"
            ],
            "text/html": [
              "<pre style=\"white-space:pre;overflow-x:auto;line-height:normal;font-family:Menlo,'DejaVu Sans Mono',consolas,'Courier New',monospace\"><span style=\"font-weight: bold\"> Total params: </span><span style=\"color: #00af00; text-decoration-color: #00af00\">65,097</span> (254.29 KB)\n",
              "</pre>\n"
            ]
          },
          "metadata": {}
        },
        {
          "output_type": "display_data",
          "data": {
            "text/plain": [
              "\u001b[1m Trainable params: \u001b[0m\u001b[38;5;34m65,097\u001b[0m (254.29 KB)\n"
            ],
            "text/html": [
              "<pre style=\"white-space:pre;overflow-x:auto;line-height:normal;font-family:Menlo,'DejaVu Sans Mono',consolas,'Courier New',monospace\"><span style=\"font-weight: bold\"> Trainable params: </span><span style=\"color: #00af00; text-decoration-color: #00af00\">65,097</span> (254.29 KB)\n",
              "</pre>\n"
            ]
          },
          "metadata": {}
        },
        {
          "output_type": "display_data",
          "data": {
            "text/plain": [
              "\u001b[1m Non-trainable params: \u001b[0m\u001b[38;5;34m0\u001b[0m (0.00 B)\n"
            ],
            "text/html": [
              "<pre style=\"white-space:pre;overflow-x:auto;line-height:normal;font-family:Menlo,'DejaVu Sans Mono',consolas,'Courier New',monospace\"><span style=\"font-weight: bold\"> Non-trainable params: </span><span style=\"color: #00af00; text-decoration-color: #00af00\">0</span> (0.00 B)\n",
              "</pre>\n"
            ]
          },
          "metadata": {}
        }
      ]
    },
    {
      "cell_type": "markdown",
      "source": [
        "Step 6: Train the Model"
      ],
      "metadata": {
        "id": "QzIQaNzeYRIJ"
      }
    },
    {
      "cell_type": "code",
      "source": [
        "# Train the model\n",
        "history = model.fit(\n",
        "    X_train, X_train,\n",
        "    epochs=50,\n",
        "    batch_size=64,\n",
        "    validation_data=(X_val, X_val),\n",
        "    shuffle=True\n",
        ")\n"
      ],
      "metadata": {
        "colab": {
          "base_uri": "https://localhost:8080/"
        },
        "id": "o1iILWQ8YTiI",
        "outputId": "0124e2cc-5f54-4ea4-dd40-cec923d73270"
      },
      "execution_count": 22,
      "outputs": [
        {
          "output_type": "stream",
          "name": "stdout",
          "text": [
            "Epoch 1/50\n",
            "\u001b[1m1745/1745\u001b[0m \u001b[32m━━━━━━━━━━━━━━━━━━━━\u001b[0m\u001b[37m\u001b[0m \u001b[1m43s\u001b[0m 20ms/step - loss: 0.0529 - val_loss: 4.4632e-04\n",
            "Epoch 2/50\n",
            "\u001b[1m1745/1745\u001b[0m \u001b[32m━━━━━━━━━━━━━━━━━━━━\u001b[0m\u001b[37m\u001b[0m \u001b[1m29s\u001b[0m 16ms/step - loss: 3.9181e-04 - val_loss: 2.4751e-04\n",
            "Epoch 3/50\n",
            "\u001b[1m1745/1745\u001b[0m \u001b[32m━━━━━━━━━━━━━━━━━━━━\u001b[0m\u001b[37m\u001b[0m \u001b[1m41s\u001b[0m 17ms/step - loss: 2.4327e-04 - val_loss: 1.8704e-04\n",
            "Epoch 4/50\n",
            "\u001b[1m1745/1745\u001b[0m \u001b[32m━━━━━━━━━━━━━━━━━━━━\u001b[0m\u001b[37m\u001b[0m \u001b[1m41s\u001b[0m 17ms/step - loss: 1.9941e-04 - val_loss: 1.5488e-04\n",
            "Epoch 5/50\n",
            "\u001b[1m1745/1745\u001b[0m \u001b[32m━━━━━━━━━━━━━━━━━━━━\u001b[0m\u001b[37m\u001b[0m \u001b[1m41s\u001b[0m 17ms/step - loss: 1.6500e-04 - val_loss: 1.2567e-04\n",
            "Epoch 6/50\n",
            "\u001b[1m1745/1745\u001b[0m \u001b[32m━━━━━━━━━━━━━━━━━━━━\u001b[0m\u001b[37m\u001b[0m \u001b[1m41s\u001b[0m 17ms/step - loss: 1.4787e-04 - val_loss: 1.3147e-04\n",
            "Epoch 7/50\n",
            "\u001b[1m1745/1745\u001b[0m \u001b[32m━━━━━━━━━━━━━━━━━━━━\u001b[0m\u001b[37m\u001b[0m \u001b[1m41s\u001b[0m 17ms/step - loss: 1.2715e-04 - val_loss: 1.1402e-04\n",
            "Epoch 8/50\n",
            "\u001b[1m1745/1745\u001b[0m \u001b[32m━━━━━━━━━━━━━━━━━━━━\u001b[0m\u001b[37m\u001b[0m \u001b[1m29s\u001b[0m 17ms/step - loss: 1.0948e-04 - val_loss: 1.0552e-04\n",
            "Epoch 9/50\n",
            "\u001b[1m1745/1745\u001b[0m \u001b[32m━━━━━━━━━━━━━━━━━━━━\u001b[0m\u001b[37m\u001b[0m \u001b[1m29s\u001b[0m 16ms/step - loss: 1.0808e-04 - val_loss: 9.1838e-05\n",
            "Epoch 10/50\n",
            "\u001b[1m1745/1745\u001b[0m \u001b[32m━━━━━━━━━━━━━━━━━━━━\u001b[0m\u001b[37m\u001b[0m \u001b[1m42s\u001b[0m 17ms/step - loss: 1.0049e-04 - val_loss: 9.3722e-05\n",
            "Epoch 11/50\n",
            "\u001b[1m1745/1745\u001b[0m \u001b[32m━━━━━━━━━━━━━━━━━━━━\u001b[0m\u001b[37m\u001b[0m \u001b[1m41s\u001b[0m 17ms/step - loss: 9.5933e-05 - val_loss: 8.9437e-05\n",
            "Epoch 12/50\n",
            "\u001b[1m1745/1745\u001b[0m \u001b[32m━━━━━━━━━━━━━━━━━━━━\u001b[0m\u001b[37m\u001b[0m \u001b[1m29s\u001b[0m 17ms/step - loss: 9.3646e-05 - val_loss: 8.2381e-05\n",
            "Epoch 13/50\n",
            "\u001b[1m1745/1745\u001b[0m \u001b[32m━━━━━━━━━━━━━━━━━━━━\u001b[0m\u001b[37m\u001b[0m \u001b[1m41s\u001b[0m 17ms/step - loss: 9.3240e-05 - val_loss: 8.2624e-05\n",
            "Epoch 14/50\n",
            "\u001b[1m1745/1745\u001b[0m \u001b[32m━━━━━━━━━━━━━━━━━━━━\u001b[0m\u001b[37m\u001b[0m \u001b[1m29s\u001b[0m 16ms/step - loss: 8.8196e-05 - val_loss: 7.8111e-05\n",
            "Epoch 15/50\n",
            "\u001b[1m1745/1745\u001b[0m \u001b[32m━━━━━━━━━━━━━━━━━━━━\u001b[0m\u001b[37m\u001b[0m \u001b[1m41s\u001b[0m 17ms/step - loss: 9.0671e-05 - val_loss: 7.8783e-05\n",
            "Epoch 16/50\n",
            "\u001b[1m1745/1745\u001b[0m \u001b[32m━━━━━━━━━━━━━━━━━━━━\u001b[0m\u001b[37m\u001b[0m \u001b[1m29s\u001b[0m 17ms/step - loss: 8.7552e-05 - val_loss: 7.2129e-05\n",
            "Epoch 17/50\n",
            "\u001b[1m1745/1745\u001b[0m \u001b[32m━━━━━━━━━━━━━━━━━━━━\u001b[0m\u001b[37m\u001b[0m \u001b[1m41s\u001b[0m 17ms/step - loss: 8.0904e-05 - val_loss: 7.1475e-05\n",
            "Epoch 18/50\n",
            "\u001b[1m1745/1745\u001b[0m \u001b[32m━━━━━━━━━━━━━━━━━━━━\u001b[0m\u001b[37m\u001b[0m \u001b[1m29s\u001b[0m 17ms/step - loss: 7.7573e-05 - val_loss: 7.2824e-05\n",
            "Epoch 19/50\n",
            "\u001b[1m1745/1745\u001b[0m \u001b[32m━━━━━━━━━━━━━━━━━━━━\u001b[0m\u001b[37m\u001b[0m \u001b[1m41s\u001b[0m 16ms/step - loss: 8.2449e-05 - val_loss: 7.8385e-05\n",
            "Epoch 20/50\n",
            "\u001b[1m1745/1745\u001b[0m \u001b[32m━━━━━━━━━━━━━━━━━━━━\u001b[0m\u001b[37m\u001b[0m \u001b[1m41s\u001b[0m 17ms/step - loss: 8.0545e-05 - val_loss: 7.4804e-05\n",
            "Epoch 21/50\n",
            "\u001b[1m1745/1745\u001b[0m \u001b[32m━━━━━━━━━━━━━━━━━━━━\u001b[0m\u001b[37m\u001b[0m \u001b[1m41s\u001b[0m 17ms/step - loss: 7.3113e-05 - val_loss: 6.6631e-05\n",
            "Epoch 22/50\n",
            "\u001b[1m1745/1745\u001b[0m \u001b[32m━━━━━━━━━━━━━━━━━━━━\u001b[0m\u001b[37m\u001b[0m \u001b[1m29s\u001b[0m 16ms/step - loss: 7.2945e-05 - val_loss: 6.8663e-05\n",
            "Epoch 23/50\n",
            "\u001b[1m1745/1745\u001b[0m \u001b[32m━━━━━━━━━━━━━━━━━━━━\u001b[0m\u001b[37m\u001b[0m \u001b[1m42s\u001b[0m 17ms/step - loss: 7.3813e-05 - val_loss: 6.3790e-05\n",
            "Epoch 24/50\n",
            "\u001b[1m1745/1745\u001b[0m \u001b[32m━━━━━━━━━━━━━━━━━━━━\u001b[0m\u001b[37m\u001b[0m \u001b[1m40s\u001b[0m 17ms/step - loss: 6.9242e-05 - val_loss: 6.2186e-05\n",
            "Epoch 25/50\n",
            "\u001b[1m1745/1745\u001b[0m \u001b[32m━━━━━━━━━━━━━━━━━━━━\u001b[0m\u001b[37m\u001b[0m \u001b[1m41s\u001b[0m 17ms/step - loss: 7.2779e-05 - val_loss: 6.2886e-05\n",
            "Epoch 26/50\n",
            "\u001b[1m1745/1745\u001b[0m \u001b[32m━━━━━━━━━━━━━━━━━━━━\u001b[0m\u001b[37m\u001b[0m \u001b[1m41s\u001b[0m 17ms/step - loss: 7.0651e-05 - val_loss: 6.3158e-05\n",
            "Epoch 27/50\n",
            "\u001b[1m1745/1745\u001b[0m \u001b[32m━━━━━━━━━━━━━━━━━━━━\u001b[0m\u001b[37m\u001b[0m \u001b[1m41s\u001b[0m 17ms/step - loss: 6.5640e-05 - val_loss: 6.2691e-05\n",
            "Epoch 28/50\n",
            "\u001b[1m1745/1745\u001b[0m \u001b[32m━━━━━━━━━━━━━━━━━━━━\u001b[0m\u001b[37m\u001b[0m \u001b[1m42s\u001b[0m 17ms/step - loss: 6.9940e-05 - val_loss: 6.0612e-05\n",
            "Epoch 29/50\n",
            "\u001b[1m1745/1745\u001b[0m \u001b[32m━━━━━━━━━━━━━━━━━━━━\u001b[0m\u001b[37m\u001b[0m \u001b[1m41s\u001b[0m 17ms/step - loss: 7.1789e-05 - val_loss: 6.0599e-05\n",
            "Epoch 30/50\n",
            "\u001b[1m1745/1745\u001b[0m \u001b[32m━━━━━━━━━━━━━━━━━━━━\u001b[0m\u001b[37m\u001b[0m \u001b[1m29s\u001b[0m 17ms/step - loss: 6.6713e-05 - val_loss: 6.1318e-05\n",
            "Epoch 31/50\n",
            "\u001b[1m1745/1745\u001b[0m \u001b[32m━━━━━━━━━━━━━━━━━━━━\u001b[0m\u001b[37m\u001b[0m \u001b[1m42s\u001b[0m 17ms/step - loss: 6.9168e-05 - val_loss: 6.7981e-05\n",
            "Epoch 32/50\n",
            "\u001b[1m1745/1745\u001b[0m \u001b[32m━━━━━━━━━━━━━━━━━━━━\u001b[0m\u001b[37m\u001b[0m \u001b[1m30s\u001b[0m 17ms/step - loss: 6.3125e-05 - val_loss: 5.7592e-05\n",
            "Epoch 33/50\n",
            "\u001b[1m1745/1745\u001b[0m \u001b[32m━━━━━━━━━━━━━━━━━━━━\u001b[0m\u001b[37m\u001b[0m \u001b[1m40s\u001b[0m 17ms/step - loss: 6.3411e-05 - val_loss: 6.4148e-05\n",
            "Epoch 34/50\n",
            "\u001b[1m1745/1745\u001b[0m \u001b[32m━━━━━━━━━━━━━━━━━━━━\u001b[0m\u001b[37m\u001b[0m \u001b[1m41s\u001b[0m 17ms/step - loss: 6.5096e-05 - val_loss: 6.4999e-05\n",
            "Epoch 35/50\n",
            "\u001b[1m1745/1745\u001b[0m \u001b[32m━━━━━━━━━━━━━━━━━━━━\u001b[0m\u001b[37m\u001b[0m \u001b[1m41s\u001b[0m 17ms/step - loss: 6.3388e-05 - val_loss: 6.1360e-05\n",
            "Epoch 36/50\n",
            "\u001b[1m1745/1745\u001b[0m \u001b[32m━━━━━━━━━━━━━━━━━━━━\u001b[0m\u001b[37m\u001b[0m \u001b[1m41s\u001b[0m 17ms/step - loss: 6.8819e-05 - val_loss: 5.6369e-05\n",
            "Epoch 37/50\n",
            "\u001b[1m1745/1745\u001b[0m \u001b[32m━━━━━━━━━━━━━━━━━━━━\u001b[0m\u001b[37m\u001b[0m \u001b[1m43s\u001b[0m 18ms/step - loss: 6.5255e-05 - val_loss: 5.6829e-05\n",
            "Epoch 38/50\n",
            "\u001b[1m1745/1745\u001b[0m \u001b[32m━━━━━━━━━━━━━━━━━━━━\u001b[0m\u001b[37m\u001b[0m \u001b[1m29s\u001b[0m 17ms/step - loss: 6.2973e-05 - val_loss: 6.1603e-05\n",
            "Epoch 39/50\n",
            "\u001b[1m1745/1745\u001b[0m \u001b[32m━━━━━━━━━━━━━━━━━━━━\u001b[0m\u001b[37m\u001b[0m \u001b[1m29s\u001b[0m 17ms/step - loss: 6.2554e-05 - val_loss: 6.0800e-05\n",
            "Epoch 40/50\n",
            "\u001b[1m1745/1745\u001b[0m \u001b[32m━━━━━━━━━━━━━━━━━━━━\u001b[0m\u001b[37m\u001b[0m \u001b[1m42s\u001b[0m 17ms/step - loss: 6.2531e-05 - val_loss: 5.6124e-05\n",
            "Epoch 41/50\n",
            "\u001b[1m1745/1745\u001b[0m \u001b[32m━━━━━━━━━━━━━━━━━━━━\u001b[0m\u001b[37m\u001b[0m \u001b[1m40s\u001b[0m 17ms/step - loss: 5.9839e-05 - val_loss: 5.4505e-05\n",
            "Epoch 42/50\n",
            "\u001b[1m1745/1745\u001b[0m \u001b[32m━━━━━━━━━━━━━━━━━━━━\u001b[0m\u001b[37m\u001b[0m \u001b[1m29s\u001b[0m 17ms/step - loss: 6.1282e-05 - val_loss: 5.7840e-05\n",
            "Epoch 43/50\n",
            "\u001b[1m1745/1745\u001b[0m \u001b[32m━━━━━━━━━━━━━━━━━━━━\u001b[0m\u001b[37m\u001b[0m \u001b[1m41s\u001b[0m 17ms/step - loss: 5.9127e-05 - val_loss: 5.5076e-05\n",
            "Epoch 44/50\n",
            "\u001b[1m1745/1745\u001b[0m \u001b[32m━━━━━━━━━━━━━━━━━━━━\u001b[0m\u001b[37m\u001b[0m \u001b[1m30s\u001b[0m 17ms/step - loss: 6.0483e-05 - val_loss: 5.3923e-05\n",
            "Epoch 45/50\n",
            "\u001b[1m1745/1745\u001b[0m \u001b[32m━━━━━━━━━━━━━━━━━━━━\u001b[0m\u001b[37m\u001b[0m \u001b[1m40s\u001b[0m 17ms/step - loss: 5.8732e-05 - val_loss: 5.2832e-05\n",
            "Epoch 46/50\n",
            "\u001b[1m1745/1745\u001b[0m \u001b[32m━━━━━━━━━━━━━━━━━━━━\u001b[0m\u001b[37m\u001b[0m \u001b[1m41s\u001b[0m 17ms/step - loss: 6.0186e-05 - val_loss: 5.2140e-05\n",
            "Epoch 47/50\n",
            "\u001b[1m1745/1745\u001b[0m \u001b[32m━━━━━━━━━━━━━━━━━━━━\u001b[0m\u001b[37m\u001b[0m \u001b[1m41s\u001b[0m 17ms/step - loss: 5.9050e-05 - val_loss: 6.4430e-05\n",
            "Epoch 48/50\n",
            "\u001b[1m1745/1745\u001b[0m \u001b[32m━━━━━━━━━━━━━━━━━━━━\u001b[0m\u001b[37m\u001b[0m \u001b[1m42s\u001b[0m 18ms/step - loss: 5.8427e-05 - val_loss: 5.2831e-05\n",
            "Epoch 49/50\n",
            "\u001b[1m1745/1745\u001b[0m \u001b[32m━━━━━━━━━━━━━━━━━━━━\u001b[0m\u001b[37m\u001b[0m \u001b[1m40s\u001b[0m 17ms/step - loss: 5.6058e-05 - val_loss: 5.9488e-05\n",
            "Epoch 50/50\n",
            "\u001b[1m1745/1745\u001b[0m \u001b[32m━━━━━━━━━━━━━━━━━━━━\u001b[0m\u001b[37m\u001b[0m \u001b[1m41s\u001b[0m 17ms/step - loss: 5.8525e-05 - val_loss: 5.3406e-05\n"
          ]
        }
      ]
    },
    {
      "cell_type": "markdown",
      "source": [
        "Step 7: Plot the Loss Curve"
      ],
      "metadata": {
        "id": "0QRKqDTggeMe"
      }
    },
    {
      "cell_type": "code",
      "source": [
        "# Plot training and validation loss\n",
        "plt.figure(figsize=(10, 6))\n",
        "plt.plot(history.history['loss'], label='Training Loss')\n",
        "plt.plot(history.history['val_loss'], label='Validation Loss')\n",
        "plt.title(\"Loss Curve\")\n",
        "plt.xlabel(\"Epochs\")\n",
        "plt.ylabel(\"Loss\")\n",
        "plt.legend()\n",
        "plt.show()\n"
      ],
      "metadata": {
        "colab": {
          "base_uri": "https://localhost:8080/",
          "height": 564
        },
        "id": "HGF4c2qhgigz",
        "outputId": "e9e3f149-37ed-4790-ac52-5dc991982ff8"
      },
      "execution_count": 23,
      "outputs": [
        {
          "output_type": "display_data",
          "data": {
            "text/plain": [
              "<Figure size 1000x600 with 1 Axes>"
            ],
            "image/png": "[encoded data removed]"
          },
          "metadata": {}
        }
      ]
    },
    {
      "cell_type": "markdown",
      "source": [
        "Step 8: Evaluate Reconstruction Errors"
      ],
      "metadata": {
        "id": "gGUtrGSnt47f"
      }
    },
    {
      "cell_type": "code",
      "source": [
        "# Predict on validation data\n",
        "reconstructed = model.predict(X_val)\n",
        "\n",
        "# Calculate reconstruction error\n",
        "reconstruction_error = np.mean(np.power(X_val - reconstructed, 2), axis=(1, 2))\n",
        "print(f\"Reconstruction error shape: {reconstruction_error.shape}\")\n"
      ],
      "metadata": {
        "colab": {
          "base_uri": "https://localhost:8080/"
        },
        "id": "_rr2FW0xhTo3",
        "outputId": "898648c8-d11c-497b-f283-33dd5ef1bb9e"
      },
      "execution_count": 24,
      "outputs": [
        {
          "output_type": "stream",
          "name": "stdout",
          "text": [
            "\u001b[1m873/873\u001b[0m \u001b[32m━━━━━━━━━━━━━━━━━━━━\u001b[0m\u001b[37m\u001b[0m \u001b[1m8s\u001b[0m 7ms/step\n",
            "Reconstruction error shape: (27908,)\n"
          ]
        }
      ]
    },
    {
      "cell_type": "markdown",
      "source": [
        "Step 9: Define Anomaly Threshold"
      ],
      "metadata": {
        "id": "nWbcD_jruOCm"
      }
    },
    {
      "cell_type": "code",
      "source": [
        "# Define threshold (95th percentile of reconstruction error)\n",
        "threshold = np.percentile(reconstruction_error, 95)\n",
        "print(f\"Anomaly detection threshold: {threshold}\")\n",
        "\n",
        "# Identify anomalies\n",
        "anomalies = reconstruction_error > threshold\n",
        "print(f\"Number of anomalies detected: {np.sum(anomalies)}\")\n"
      ],
      "metadata": {
        "colab": {
          "base_uri": "https://localhost:8080/"
        },
        "id": "z4ggsUOkuP19",
        "outputId": "e52e323b-853e-4424-e058-152a60a8c094"
      },
      "execution_count": 25,
      "outputs": [
        {
          "output_type": "stream",
          "name": "stdout",
          "text": [
            "Anomaly detection threshold: 8.251359841365316e-05\n",
            "Number of anomalies detected: 1396\n"
          ]
        }
      ]
    },
    {
      "cell_type": "markdown",
      "source": [
        "Step 10: Visualize Reconstruction Errors"
      ],
      "metadata": {
        "id": "efZWznSruy4u"
      }
    },
    {
      "cell_type": "code",
      "source": [
        "# Plot reconstruction errors\n",
        "plt.figure(figsize=(10, 6))\n",
        "plt.plot(reconstruction_error, label='Reconstruction Error')\n",
        "plt.axhline(y=threshold, color='r', linestyle='--', label='Threshold')\n",
        "plt.legend()\n",
        "plt.title(\"Reconstruction Error for Validation Data\")\n",
        "plt.xlabel(\"Data Point\")\n",
        "plt.ylabel(\"Reconstruction Error\")\n",
        "plt.show()\n"
      ],
      "metadata": {
        "colab": {
          "base_uri": "https://localhost:8080/",
          "height": 564
        },
        "id": "wVcD6F14u69Y",
        "outputId": "155130e6-b9eb-4542-9ce8-edf36a0e436d"
      },
      "execution_count": 26,
      "outputs": [
        {
          "output_type": "display_data",
          "data": {
            "text/plain": [
              "<Figure size 1000x600 with 1 Axes>"
            ],
            "image/png": "[encoded data removed]"
          },
          "metadata": {}
        }
      ]
    },
    {
      "cell_type": "markdown",
      "source": [
        "Step 11: Examples of Well-Predicted and Poorly-Predicted Data"
      ],
      "metadata": {
        "id": "KLF7Y4p7v3XG"
      }
    },
    {
      "cell_type": "code",
      "source": [
        "# Example of well-predicted data\n",
        "well_predicted_index = np.argmin(reconstruction_error)\n",
        "print(f\"Well-predicted data point (index {well_predicted_index}):\")\n",
        "print(f\"Original: {X_val[well_predicted_index]}\")\n",
        "print(f\"Reconstructed: {reconstructed[well_predicted_index]}\")\n",
        "\n",
        "# Example of poorly-predicted data\n",
        "poorly_predicted_index = np.argmax(reconstruction_error)\n",
        "print(f\"Poorly-predicted data point (index {poorly_predicted_index}):\")\n",
        "print(f\"Original: {X_val[poorly_predicted_index]}\")\n",
        "print(f\"Reconstructed: {reconstructed[poorly_predicted_index]}\")\n"
      ],
      "metadata": {
        "colab": {
          "base_uri": "https://localhost:8080/"
        },
        "id": "p3vyOzk2v1h6",
        "outputId": "2b5e6860-9dee-46be-9547-38e7806a2a83"
      },
      "execution_count": 27,
      "outputs": [
        {
          "output_type": "stream",
          "name": "stdout",
          "text": [
            "Well-predicted data point (index 188):\n",
            "Original: [[0.72215305 0.20685246 0.88456528 0.7611748  0.32433591 0.07786626\n",
            "  0.22965124 0.39108052 0.35791976]\n",
            " [0.72215305 0.20685246 0.88456528 0.7611748  0.32433591 0.07786626\n",
            "  0.22965124 0.39108052 0.35791976]\n",
            " [0.72215305 0.20685246 0.88456528 0.7611748  0.32433591 0.07786626\n",
            "  0.22965124 0.39108052 0.35791976]\n",
            " [0.72215305 0.20685246 0.88456528 0.7611748  0.32433591 0.07786626\n",
            "  0.22965124 0.39108052 0.35791976]\n",
            " [0.72215305 0.20685246 0.88456528 0.7611748  0.32433591 0.07786626\n",
            "  0.22965124 0.39108052 0.35791976]\n",
            " [0.72215305 0.20685246 0.88456528 0.7611748  0.32433591 0.07786626\n",
            "  0.22965124 0.39108052 0.35791976]\n",
            " [0.72215305 0.20685246 0.88456528 0.7611748  0.32433591 0.07786626\n",
            "  0.22965124 0.39108052 0.35791976]\n",
            " [0.72215305 0.20685246 0.88456528 0.7611748  0.32433591 0.07786626\n",
            "  0.22965124 0.39108052 0.35791976]\n",
            " [0.72215305 0.20685246 0.88456528 0.7611748  0.32433591 0.07786626\n",
            "  0.22965124 0.39108052 0.35791976]\n",
            " [0.72215305 0.20685246 0.88456528 0.7611748  0.32433591 0.07786626\n",
            "  0.22965124 0.39108052 0.35791976]\n",
            " [0.72215305 0.20685246 0.88456528 0.7611748  0.32433591 0.07786626\n",
            "  0.22965124 0.39108052 0.35791976]\n",
            " [0.72215305 0.20685246 0.88456528 0.7611748  0.32433591 0.07786626\n",
            "  0.22965124 0.39108052 0.35791976]\n",
            " [0.72215305 0.20685246 0.88456528 0.7611748  0.32433591 0.07786626\n",
            "  0.22965124 0.39108052 0.35791976]\n",
            " [0.72215305 0.20685246 0.88456528 0.7611748  0.32433591 0.07786626\n",
            "  0.22965124 0.39108052 0.35791976]\n",
            " [0.72215305 0.20685246 0.88456528 0.7611748  0.32433591 0.07786626\n",
            "  0.22965124 0.39108052 0.35791976]\n",
            " [0.72215305 0.20685246 0.88456528 0.7611748  0.32433591 0.07786626\n",
            "  0.22965124 0.39108052 0.35791976]\n",
            " [0.72215305 0.20685246 0.88456528 0.7611748  0.32433591 0.07786626\n",
            "  0.22965124 0.39108052 0.35791976]\n",
            " [0.72215305 0.20685246 0.88456528 0.7611748  0.32433591 0.07786626\n",
            "  0.22965124 0.39108052 0.35791976]\n",
            " [0.72215305 0.20685246 0.88456528 0.7611748  0.32433591 0.07786626\n",
            "  0.22965124 0.39108052 0.35791976]\n",
            " [0.72215305 0.20685246 0.88456528 0.7611748  0.32433591 0.07786626\n",
            "  0.22965124 0.39108052 0.35791976]\n",
            " [0.72215305 0.20685246 0.88456528 0.7611748  0.32433591 0.07786626\n",
            "  0.22965124 0.39108052 0.35791976]\n",
            " [0.72215305 0.20685246 0.88456528 0.7611748  0.32433591 0.07786626\n",
            "  0.22965124 0.39108052 0.35791976]\n",
            " [0.72215305 0.20685246 0.88456528 0.7611748  0.32433591 0.07786626\n",
            "  0.22965124 0.39108052 0.35791976]\n",
            " [0.72215305 0.20685246 0.88456528 0.7611748  0.32433591 0.07786626\n",
            "  0.22965124 0.39108052 0.35791976]\n",
            " [0.72215305 0.20685246 0.88456528 0.7611748  0.32433591 0.07786626\n",
            "  0.22965124 0.39108052 0.35791976]\n",
            " [0.72215305 0.20685246 0.88456528 0.7611748  0.32433591 0.07786626\n",
            "  0.22965124 0.39108052 0.35791976]\n",
            " [0.72215305 0.20685246 0.88456528 0.7611748  0.32433591 0.07786626\n",
            "  0.22965124 0.39108052 0.35791976]\n",
            " [0.72215305 0.20685246 0.88456528 0.7611748  0.32433591 0.07786626\n",
            "  0.22965124 0.39108052 0.35791976]\n",
            " [0.72215305 0.20685246 0.88456528 0.7611748  0.32433591 0.07786626\n",
            "  0.22965124 0.39108052 0.35791976]\n",
            " [0.72215305 0.20685246 0.88456528 0.7611748  0.32433591 0.07786626\n",
            "  0.22965124 0.39108052 0.35791976]]\n",
            "Reconstructed: [[0.7204331  0.20454493 0.8814185  0.75997925 0.3240413  0.07731555\n",
            "  0.23213963 0.39167804 0.3575624 ]\n",
            " [0.72204936 0.20540772 0.8812204  0.7618922  0.32328093 0.07780338\n",
            "  0.23179223 0.3923276  0.35718706]\n",
            " [0.7230878  0.20585671 0.88068503 0.7626165  0.32218388 0.0772086\n",
            "  0.23098402 0.39303854 0.3584617 ]\n",
            " [0.723315   0.20586307 0.8811118  0.76343703 0.32186255 0.07719523\n",
            "  0.23073713 0.3929593  0.35971034]\n",
            " [0.7229475  0.20607275 0.8810008  0.7635449  0.32048273 0.07644314\n",
            "  0.22961305 0.39291498 0.3603813 ]\n",
            " [0.72332823 0.20588198 0.88173944 0.7643227  0.32113832 0.07623673\n",
            "  0.22961372 0.39357185 0.3605336 ]\n",
            " [0.72287536 0.2060412  0.88179994 0.76445115 0.32149318 0.07601936\n",
            "  0.22942089 0.3935203  0.36029354]\n",
            " [0.72219074 0.20622249 0.8818268  0.76444197 0.32172504 0.07606297\n",
            "  0.229087   0.393457   0.35996285]\n",
            " [0.7219775  0.20643778 0.8819403  0.76457345 0.32175362 0.07605789\n",
            "  0.2288737  0.39363873 0.36003578]\n",
            " [0.72185314 0.20653689 0.88204086 0.7646464  0.32174516 0.07602941\n",
            "  0.22863446 0.39382654 0.3602538 ]\n",
            " [0.7217581  0.20656161 0.8821477  0.7646643  0.3217809  0.07600526\n",
            "  0.22842576 0.3939474  0.36052212]\n",
            " [0.72168744 0.20656587 0.8822558  0.76464033 0.32187578 0.07598785\n",
            "  0.22828205 0.3939971  0.36079633]\n",
            " [0.72164285 0.20657802 0.88235563 0.7645884  0.32202232 0.0759814\n",
            "  0.22820891 0.39399478 0.3610454 ]\n",
            " [0.72162247 0.20660535 0.88244146 0.76451963 0.3222038  0.07598983\n",
            "  0.22819851 0.39396515 0.36124673]\n",
            " [0.72162104 0.20664409 0.88251185 0.7644417  0.32240245 0.07601494\n",
            "  0.22823955 0.39392766 0.36138788]\n",
            " [0.7216327  0.20668744 0.8825671  0.76435935 0.32260197 0.07605653\n",
            "  0.22831908 0.39389497 0.3614666 ]\n",
            " [0.7216517  0.20672858 0.882609   0.7642751  0.32279012 0.07611213\n",
            "  0.22842486 0.3938732  0.361488  ]\n",
            " [0.72167206 0.20676276 0.8826391  0.7641898  0.32295868 0.07617813\n",
            "  0.22854526 0.39386395 0.36146358]\n",
            " [0.7216892  0.20678774 0.88265914 0.7641038  0.3231038  0.07625084\n",
            "  0.2286701  0.39386544 0.3614066 ]\n",
            " [0.7216985  0.20680311 0.88267034 0.7640166  0.323223   0.07632601\n",
            "  0.2287903  0.3938751  0.3613319 ]\n",
            " [0.7216965  0.20681038 0.8826743  0.76392746 0.32331732 0.07640032\n",
            "  0.22889872 0.39388928 0.36125338]\n",
            " [0.7216803  0.20681147 0.8826717  0.763836   0.32338923 0.0764708\n",
            "  0.22898923 0.3939045  0.36118326]\n",
            " [0.7216475  0.20680887 0.88266337 0.7637409  0.3234419  0.07653513\n",
            "  0.22905691 0.39391813 0.3611319 ]\n",
            " [0.72159624 0.2068052  0.88264996 0.763642   0.32347864 0.07659151\n",
            "  0.22909883 0.39392745 0.36110753]\n",
            " [0.7215251  0.20680277 0.8826323  0.76353824 0.32350352 0.07663878\n",
            "  0.22911246 0.39393115 0.36111623]\n",
            " [0.7214334  0.20680359 0.882611   0.7634296  0.32352024 0.07667591\n",
            "  0.22909676 0.39392793 0.36116225]\n",
            " [0.72132075 0.20680922 0.88258636 0.7633153  0.32353243 0.0767029\n",
            "  0.22905129 0.3939173  0.36124793]\n",
            " [0.72118735 0.206821   0.88255894 0.76319563 0.32354346 0.07671901\n",
            "  0.22897618 0.39389908 0.36137447]\n",
            " [0.7210336  0.20683977 0.8825294  0.7630703  0.32355556 0.07672448\n",
            "  0.2288722  0.3938734  0.36154172]\n",
            " [0.72086036 0.20686583 0.8824981  0.7629397  0.32357126 0.07671935\n",
            "  0.22874054 0.39384082 0.36174855]]\n",
            "Poorly-predicted data point (index 7299):\n",
            "Original: [[0.73728814 0.7        0.8731364  0.75798319 0.32817337 0.09055118\n",
            "  0.20995671 0.15192455 0.01774691]\n",
            " [0.73728814 0.875      0.8731364  0.75798319 0.32817337 0.09448819\n",
            "  0.20995671 0.16543462 0.01813272]\n",
            " [0.73728814 0.         0.         0.         0.         0.\n",
            "  0.         0.         0.        ]\n",
            " [0.         0.         0.00202584 0.         0.01547988 0.\n",
            "  0.         0.79046648 0.00385802]\n",
            " [0.73728814 1.         0.85895553 0.75798319 0.32662539 0.09448819\n",
            "  0.21861472 0.15778741 0.00385802]\n",
            " [0.         0.         0.         0.         0.         0.\n",
            "  0.         0.         0.        ]\n",
            " [0.         0.         0.00202584 0.         0.01547988 0.\n",
            "  0.         0.         0.        ]\n",
            " [0.72881356 0.9        0.85085217 0.75798319 0.3374613  0.09448819\n",
            "  0.22510823 0.15498343 0.00385802]\n",
            " [0.72881356 0.8        0.85895553 0.75798319 0.33126935 0.09448819\n",
            "  0.21428571 0.13713994 0.00385802]\n",
            " [0.73728814 0.7625     0.8366713  0.75798319 0.33126935 0.08267717\n",
            "  0.2012987  0.15829722 0.02430556]\n",
            " [0.73728814 0.725      0.85287801 0.75798319 0.33126935 0.09448819\n",
            "  0.20995671 0.15880704 0.01929012]\n",
            " [0.73728814 0.625      0.85692969 0.75798319 0.32662539 0.09448819\n",
            "  0.20995671 0.14070864 0.01774691]\n",
            " [0.73728814 0.6        0.83869714 0.75798319 0.32662539 0.09055118\n",
            "  0.1969697  0.15957176 0.01427469]\n",
            " [0.72881356 0.5125     0.85287801 0.75798319 0.33126935 0.1023622\n",
            "  0.20562771 0.16645424 0.0162037 ]\n",
            " [0.73728814 0.4875     0.85895553 0.75798319 0.33126935 0.09448819\n",
            "  0.20562771 0.13331634 0.01736111]\n",
            " [0.72881356 0.4375     0.85895553 0.75798319 0.32662539 0.09448819\n",
            "  0.20562771 0.15294418 0.0162037 ]\n",
            " [0.72033898 0.425      0.8630072  0.75798319 0.32662539 0.09448819\n",
            "  0.2034632  0.13000255 0.0162037 ]\n",
            " [0.72881356 0.3875     0.86503304 0.75630252 0.32662539 0.09448819\n",
            "  0.2034632  0.13713994 0.01774691]\n",
            " [0.72033898 0.35       0.86705888 0.75630252 0.32662539 0.09448819\n",
            "  0.2012987  0.13153199 0.01813272]\n",
            " [0.72033898 0.35       0.86705888 0.75630252 0.32662539 0.09055118\n",
            "  0.2034632  0.14198318 0.01851852]\n",
            " [0.72033898 0.3125     0.86908472 0.75798319 0.32662539 0.09448819\n",
            "  0.2034632  0.13255162 0.01813272]\n",
            " [0.72033898 0.325      0.86705888 0.75630252 0.32662539 0.09055118\n",
            "  0.2034632  0.16798369 0.01813272]\n",
            " [0.72033898 0.3        0.87111056 0.75630252 0.32662539 0.09055118\n",
            "  0.2012987  0.13739485 0.01774691]\n",
            " [0.72033898 0.2375     0.87111056 0.75630252 0.32662539 0.09055118\n",
            "  0.1969697  0.17104257 0.01736111]\n",
            " [0.72033898 0.1875     0.87111056 0.75630252 0.32662539 0.09055118\n",
            "  0.2012987  0.1243946  0.01736111]\n",
            " [0.72033898 0.1625     0.87111056 0.75630252 0.32662539 0.09055118\n",
            "  0.1969697  0.15090492 0.01774691]\n",
            " [0.72033898 0.15       0.87111056 0.75462185 0.32662539 0.09448819\n",
            "  0.2012987  0.11955136 0.01774691]\n",
            " [0.72033898 0.1375     0.8731364  0.75462185 0.32662539 0.09448819\n",
            "  0.1969697  0.13408106 0.01774691]\n",
            " [0.72881356 0.125      0.8731364  0.75462185 0.32662539 0.10629921\n",
            "  0.2012987  0.13968901 0.01813272]\n",
            " [0.72881356 0.1125     0.8731364  0.75462185 0.32662539 0.09448819\n",
            "  0.1969697  0.12490441 0.01774691]]\n",
            "Reconstructed: [[ 6.57361746e-01  3.10636759e-01  7.22826600e-01  5.71171105e-01\n",
            "   3.49101037e-01  1.03518121e-01  1.97954312e-01  2.39551246e-01\n",
            "   2.24857897e-01]\n",
            " [ 6.20979786e-01  3.64200592e-01  5.87532878e-01  5.57489276e-01\n",
            "   2.94047594e-01  1.15877926e-01  2.01721445e-01  2.24132091e-01\n",
            "   1.32868707e-01]\n",
            " [ 6.07892632e-01  4.13744658e-01  5.40850759e-01  5.63887417e-01\n",
            "   2.77226508e-01  1.16403259e-01  1.92724809e-01  2.31085509e-01\n",
            "   9.79264975e-02]\n",
            " [ 6.00520015e-01  4.52609211e-01  5.32184601e-01  5.55277407e-01\n",
            "   2.54501313e-01  1.13308899e-01  1.69157892e-01  2.37328947e-01\n",
            "   8.84289443e-02]\n",
            " [ 5.97177625e-01  4.77328926e-01  5.55019975e-01  5.41729391e-01\n",
            "   2.30293915e-01  1.16164885e-01  1.48868099e-01  2.40201324e-01\n",
            "   8.94236714e-02]\n",
            " [ 5.96985221e-01  4.91477638e-01  5.93551755e-01  5.26852012e-01\n",
            "   2.08758280e-01  1.22603111e-01  1.39239490e-01  2.37084180e-01\n",
            "   8.60378891e-02]\n",
            " [ 5.89758635e-01  4.96012390e-01  6.25594616e-01  5.24587870e-01\n",
            "   1.93496168e-01  1.25141397e-01  1.32500052e-01  2.36737192e-01\n",
            "   8.29593614e-02]\n",
            " [ 5.84749460e-01  4.89865422e-01  6.48900330e-01  5.31389773e-01\n",
            "   1.86558366e-01  1.26193330e-01  1.32493600e-01  2.36784697e-01\n",
            "   7.91979879e-02]\n",
            " [ 5.83846807e-01  4.76227820e-01  6.68365002e-01  5.46090364e-01\n",
            "   1.88575760e-01  1.26392543e-01  1.38152927e-01  2.34062433e-01\n",
            "   7.59246349e-02]\n",
            " [ 5.85973620e-01  4.61452633e-01  6.88587844e-01  5.66253245e-01\n",
            "   1.97264433e-01  1.23502947e-01  1.45059705e-01  2.30295837e-01\n",
            "   7.50851184e-02]\n",
            " [ 5.92238426e-01  4.46672738e-01  7.10020304e-01  5.90583801e-01\n",
            "   2.10555136e-01  1.18274651e-01  1.52707770e-01  2.25015432e-01\n",
            "   7.47447312e-02]\n",
            " [ 6.02724195e-01  4.32138383e-01  7.32623518e-01  6.17367208e-01\n",
            "   2.26405293e-01  1.11806683e-01  1.61045179e-01  2.18094319e-01\n",
            "   7.33951181e-02]\n",
            " [ 6.16091013e-01  4.18318927e-01  7.55990922e-01  6.44899130e-01\n",
            "   2.42920071e-01  1.05188765e-01  1.69707626e-01  2.09884971e-01\n",
            "   7.08470941e-02]\n",
            " [ 6.31112933e-01  4.05731797e-01  7.79580057e-01  6.72022164e-01\n",
            "   2.59140342e-01  9.90890339e-02  1.78513184e-01  2.01276332e-01\n",
            "   6.69809282e-02]\n",
            " [ 6.46472454e-01  3.94626617e-01  8.02720249e-01  6.98001802e-01\n",
            "   2.74487287e-01  9.37554762e-02  1.86878964e-01  1.92841589e-01\n",
            "   6.19810857e-02]\n",
            " [ 6.60406232e-01  3.85332882e-01  8.23633134e-01  7.20459282e-01\n",
            "   2.86813319e-01  9.00389925e-02  1.94496319e-01  1.86640918e-01\n",
            "   5.49596436e-02]\n",
            " [ 6.71741605e-01  3.77368629e-01  8.41128290e-01  7.38697767e-01\n",
            "   2.95738339e-01  8.75725225e-02  2.00921968e-01  1.83117628e-01\n",
            "   4.64556403e-02]\n",
            " [ 6.80537581e-01  3.70188832e-01  8.55275631e-01  7.53529251e-01\n",
            "   3.02049309e-01  8.57087746e-02  2.06046805e-01  1.81612879e-01\n",
            "   3.73357870e-02]\n",
            " [ 6.87285185e-01  3.63549560e-01  8.66631210e-01  7.65758336e-01\n",
            "   3.06346118e-01  8.41779932e-02  2.10024685e-01  1.81486577e-01\n",
            "   2.80099250e-02]\n",
            " [ 6.92482829e-01  3.57324213e-01  8.75774205e-01  7.75996208e-01\n",
            "   3.09099853e-01  8.28015432e-02  2.13048264e-01  1.82205170e-01\n",
            "   1.87316723e-02]\n",
            " [ 6.96560502e-01  3.51454437e-01  8.83208334e-01  7.84707010e-01\n",
            "   3.10683221e-01  8.14682916e-02  2.15294555e-01  1.83374107e-01\n",
            "   9.66023281e-03]\n",
            " [ 6.99858069e-01  3.45917374e-01  8.89340281e-01  7.92239070e-01\n",
            "   3.11385751e-01  8.01137909e-02  2.16910958e-01  1.84722245e-01\n",
            "   8.92404467e-04]\n",
            " [ 7.02629447e-01  3.40706885e-01  8.94486368e-01  7.98853159e-01\n",
            "   3.11430037e-01  7.87037238e-02  2.18016893e-01  1.86075807e-01\n",
            "  -7.51530752e-03]\n",
            " [ 7.05056429e-01  3.35822582e-01  8.98885667e-01  8.04742634e-01\n",
            "   3.10986280e-01  7.72236064e-02  2.18707249e-01  1.87330872e-01\n",
            "  -1.55330114e-02]\n",
            " [ 7.07264662e-01  3.31264555e-01  9.02715385e-01  8.10050786e-01\n",
            "   3.10185611e-01  7.56719336e-02  2.19057843e-01  1.88432246e-01\n",
            "  -2.31471919e-02]\n",
            " [ 7.09336996e-01  3.27030033e-01  9.06104505e-01  8.14882696e-01\n",
            "   3.09127957e-01  7.40542337e-02  2.19129533e-01  1.89356238e-01\n",
            "  -3.03556137e-02]\n",
            " [ 7.11326599e-01  3.23112905e-01  9.09146607e-01  8.19316268e-01\n",
            "   3.07890475e-01  7.23803565e-02  2.18971714e-01  1.90098822e-01\n",
            "  -3.71629708e-02]\n",
            " [ 7.13265538e-01  3.19503367e-01  9.11908090e-01  8.23408961e-01\n",
            "   3.06532264e-01  7.06621036e-02  2.18625054e-01  1.90667272e-01\n",
            "  -4.35781889e-02]\n",
            " [ 7.15171456e-01  3.16188931e-01  9.14436638e-01  8.27204347e-01\n",
            "   3.05098772e-01  6.89118132e-02  2.18123198e-01  1.91075385e-01\n",
            "  -4.96131741e-02]\n",
            " [ 7.17052817e-01  3.13154399e-01  9.16766107e-01  8.30734730e-01\n",
            "   3.03625375e-01  6.71416894e-02  2.17494711e-01  1.91339076e-01\n",
            "  -5.52820824e-02]]\n"
          ]
        }
      ]
    }
  ]
}